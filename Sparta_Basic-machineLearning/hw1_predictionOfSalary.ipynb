{
  "nbformat": 4,
  "nbformat_minor": 0,
  "metadata": {
    "colab": {
      "name": "hw1_predictionOfSalary.ipynb",
      "provenance": [],
      "collapsed_sections": [],
      "authorship_tag": "ABX9TyNQy/rDgim9R7OoLUuOw4bl",
      "include_colab_link": true
    },
    "kernelspec": {
      "name": "python3",
      "display_name": "Python 3"
    },
    "language_info": {
      "name": "python"
    }
  },
  "cells": [
    {
      "cell_type": "markdown",
      "metadata": {
        "id": "view-in-github",
        "colab_type": "text"
      },
      "source": [
        "<a href=\"https://colab.research.google.com/github/jmParkGit/Colab/blob/main/Sparta_Basic-machineLearning/hw1_predictionOfSalary.ipynb\" target=\"_parent\"><img src=\"https://colab.research.google.com/assets/colab-badge.svg\" alt=\"Open In Colab\"/></a>"
      ]
    },
    {
      "cell_type": "markdown",
      "metadata": {
        "id": "KVmRHdfxEZ4H"
      },
      "source": [
        "# hw1 연차에따른 연봉 예측하기 ( Linear regression)"
      ]
    },
    {
      "cell_type": "markdown",
      "metadata": {
        "id": "HMSw0QBPElQd"
      },
      "source": [
        "## Colab에서 Kaggle 데이터셋 연동하기"
      ]
    },
    {
      "cell_type": "code",
      "metadata": {
        "id": "EYeiBKaPEsXg"
      },
      "source": [
        "import os\n",
        "os.environ['KAGGLE_USERNAME'] = 'username' # username\n",
        "os.environ['KAGGLE_KEY'] = 'key' # key"
      ],
      "execution_count": 1,
      "outputs": []
    },
    {
      "cell_type": "markdown",
      "metadata": {
        "id": "Ge7ITAPwE3LD"
      },
      "source": [
        "## 연봉 데이터셋 다운로드\n",
        "데이터셋: https://www.kaggle.com/rsadiq/salary"
      ]
    },
    {
      "cell_type": "code",
      "metadata": {
        "colab": {
          "base_uri": "https://localhost:8080/"
        },
        "id": "ztMvMXbFFBcj",
        "outputId": "294f0f2f-4e7e-45ab-b8fa-2234e10a10e1"
      },
      "source": [
        "!kaggle datasets download -d rsadiq/salary"
      ],
      "execution_count": 2,
      "outputs": [
        {
          "output_type": "stream",
          "name": "stdout",
          "text": [
            "salary.zip: Skipping, found more recently modified local copy (use --force to force download)\n"
          ]
        }
      ]
    },
    {
      "cell_type": "markdown",
      "metadata": {
        "id": "0grsQyToFHFm"
      },
      "source": [
        "데이터셋 압축해제"
      ]
    },
    {
      "cell_type": "code",
      "metadata": {
        "colab": {
          "base_uri": "https://localhost:8080/"
        },
        "id": "Y3A9gCCoFIru",
        "outputId": "f0f7cab5-f3e5-4dd6-d627-6de78e184dc1"
      },
      "source": [
        "!unzip /content/salary.zip"
      ],
      "execution_count": 3,
      "outputs": [
        {
          "output_type": "stream",
          "name": "stdout",
          "text": [
            "Archive:  /content/salary.zip\n",
            "replace Salary.csv? [y]es, [n]o, [A]ll, [N]one, [r]ename: y\n",
            "  inflating: Salary.csv              \n"
          ]
        }
      ]
    },
    {
      "cell_type": "markdown",
      "metadata": {
        "id": "PDIthQT3FeL0"
      },
      "source": [
        "## 연봉 데이터 예측\n",
        "연차로 연봉 예측하기"
      ]
    },
    {
      "cell_type": "code",
      "metadata": {
        "id": "cbtwWSHMF23q"
      },
      "source": [
        "from tensorflow.keras.models import Sequential\n",
        "from tensorflow.keras.layers import Dense\n",
        "from tensorflow.keras.optimizers import Adam, SGD\n",
        "import numpy as np\n",
        "import pandas as pd\n",
        "import matplotlib.pyplot as plt \n",
        "import seaborn as sns\n",
        "from sklearn.model_selection import train_test_split"
      ],
      "execution_count": 4,
      "outputs": []
    },
    {
      "cell_type": "markdown",
      "metadata": {
        "id": "AQMzLvBlGAPX"
      },
      "source": [
        "데이터셋 로드"
      ]
    },
    {
      "cell_type": "code",
      "metadata": {
        "colab": {
          "base_uri": "https://localhost:8080/",
          "height": 204
        },
        "id": "AxhwjCKzGBYT",
        "outputId": "f70ac46a-81ef-4fb7-aa7e-3443fa05e2b8"
      },
      "source": [
        "df=pd.read_csv('Salary.csv')\n",
        "df.head(5)"
      ],
      "execution_count": 5,
      "outputs": [
        {
          "output_type": "execute_result",
          "data": {
            "text/html": [
              "<div>\n",
              "<style scoped>\n",
              "    .dataframe tbody tr th:only-of-type {\n",
              "        vertical-align: middle;\n",
              "    }\n",
              "\n",
              "    .dataframe tbody tr th {\n",
              "        vertical-align: top;\n",
              "    }\n",
              "\n",
              "    .dataframe thead th {\n",
              "        text-align: right;\n",
              "    }\n",
              "</style>\n",
              "<table border=\"1\" class=\"dataframe\">\n",
              "  <thead>\n",
              "    <tr style=\"text-align: right;\">\n",
              "      <th></th>\n",
              "      <th>YearsExperience</th>\n",
              "      <th>Salary</th>\n",
              "    </tr>\n",
              "  </thead>\n",
              "  <tbody>\n",
              "    <tr>\n",
              "      <th>0</th>\n",
              "      <td>1.1</td>\n",
              "      <td>39343</td>\n",
              "    </tr>\n",
              "    <tr>\n",
              "      <th>1</th>\n",
              "      <td>1.3</td>\n",
              "      <td>46205</td>\n",
              "    </tr>\n",
              "    <tr>\n",
              "      <th>2</th>\n",
              "      <td>1.5</td>\n",
              "      <td>37731</td>\n",
              "    </tr>\n",
              "    <tr>\n",
              "      <th>3</th>\n",
              "      <td>2.0</td>\n",
              "      <td>43525</td>\n",
              "    </tr>\n",
              "    <tr>\n",
              "      <th>4</th>\n",
              "      <td>2.2</td>\n",
              "      <td>39891</td>\n",
              "    </tr>\n",
              "  </tbody>\n",
              "</table>\n",
              "</div>"
            ],
            "text/plain": [
              "   YearsExperience  Salary\n",
              "0              1.1   39343\n",
              "1              1.3   46205\n",
              "2              1.5   37731\n",
              "3              2.0   43525\n",
              "4              2.2   39891"
            ]
          },
          "metadata": {},
          "execution_count": 5
        }
      ]
    },
    {
      "cell_type": "code",
      "metadata": {
        "colab": {
          "base_uri": "https://localhost:8080/"
        },
        "id": "_Z4MJ660GSiV",
        "outputId": "6d5f2665-6f0c-462f-e9d0-5945a0a41729"
      },
      "source": [
        "print(df.shape)"
      ],
      "execution_count": 6,
      "outputs": [
        {
          "output_type": "stream",
          "name": "stdout",
          "text": [
            "(35, 2)\n"
          ]
        }
      ]
    },
    {
      "cell_type": "markdown",
      "metadata": {
        "id": "Di3ISvUvGiV5"
      },
      "source": [
        "데이터셋 살짝 살펴보기"
      ]
    },
    {
      "cell_type": "code",
      "metadata": {
        "colab": {
          "base_uri": "https://localhost:8080/",
          "height": 320
        },
        "id": "5wtqTiY7Gks5",
        "outputId": "1d272cdb-eda2-40d6-8620-4bca2644f194"
      },
      "source": [
        "sns.pairplot(df, x_vars=['YearsExperience'], y_vars=['Salary'], height=4)"
      ],
      "execution_count": 7,
      "outputs": [
        {
          "output_type": "execute_result",
          "data": {
            "text/plain": [
              "<seaborn.axisgrid.PairGrid at 0x7fa7a2d59810>"
            ]
          },
          "metadata": {},
          "execution_count": 7
        },
        {
          "output_type": "display_data",
          "data": {
            "image/png": "[encoded data removed]",
            "text/plain": [
              "<Figure size 288x288 with 1 Axes>"
            ]
          },
          "metadata": {
            "needs_background": "light"
          }
        }
      ]
    },
    {
      "cell_type": "markdown",
      "metadata": {
        "id": "eeFfeqGsGxXB"
      },
      "source": [
        "데이터셋 가공"
      ]
    },
    {
      "cell_type": "code",
      "metadata": {
        "colab": {
          "base_uri": "https://localhost:8080/"
        },
        "id": "e_UpZDTDGyko",
        "outputId": "16c753df-3caf-416b-c93c-7ea73b8848a7"
      },
      "source": [
        "x_data = np.array(df[['YearsExperience']], dtype=np.float32)\n",
        "y_data = np.array(df['Salary'], dtype=np.float32)\n",
        "\n",
        "print(x_data.shape)\n",
        "print(y_data.shape)"
      ],
      "execution_count": 8,
      "outputs": [
        {
          "output_type": "stream",
          "name": "stdout",
          "text": [
            "(35, 1)\n",
            "(35,)\n"
          ]
        }
      ]
    },
    {
      "cell_type": "code",
      "metadata": {
        "colab": {
          "base_uri": "https://localhost:8080/"
        },
        "id": "OU1NtFAaG5Iv",
        "outputId": "5e1dda0c-bd47-49c8-8048-a05236edf653"
      },
      "source": [
        "x_data = x_data.reshape((-1, 1))\n",
        "y_data = y_data.reshape((-1, 1))\n",
        "\n",
        "print(x_data.shape)\n",
        "print(y_data.shape)"
      ],
      "execution_count": 9,
      "outputs": [
        {
          "output_type": "stream",
          "name": "stdout",
          "text": [
            "(35, 1)\n",
            "(35, 1)\n"
          ]
        }
      ]
    },
    {
      "cell_type": "markdown",
      "metadata": {
        "id": "e9ZD0jZOG8DC"
      },
      "source": [
        "데이터셋 분할\n",
        "- 학습데이터 80%, 검증 데이터 20%\n",
        "- 이 코드는 학습용이라 테스트 데이터는 논외"
      ]
    },
    {
      "cell_type": "code",
      "metadata": {
        "colab": {
          "base_uri": "https://localhost:8080/"
        },
        "id": "rwZ4OHXCHIGQ",
        "outputId": "e3cafb15-10e9-45b1-9ec4-b21a711174d9"
      },
      "source": [
        "x_train, x_val, y_train, y_val = train_test_split(x_data, y_data, test_size=0.2, random_state=2021)\n",
        "\n",
        "print(x_train.shape, x_val.shape)\n",
        "print(y_train.shape, y_val.shape)"
      ],
      "execution_count": 10,
      "outputs": [
        {
          "output_type": "stream",
          "name": "stdout",
          "text": [
            "(28, 1) (7, 1)\n",
            "(28, 1) (7, 1)\n"
          ]
        }
      ]
    },
    {
      "cell_type": "markdown",
      "metadata": {
        "id": "gXbvf1-yHN-u"
      },
      "source": [
        "학습"
      ]
    },
    {
      "cell_type": "code",
      "metadata": {
        "colab": {
          "base_uri": "https://localhost:8080/"
        },
        "id": "fUA2GCeGHPzG",
        "outputId": "cad44ffe-b564-4677-ed44-e77cdadb1987"
      },
      "source": [
        "model = Sequential([\n",
        "  Dense(1)\n",
        "])\n",
        "\n",
        "model.compile(loss='mean_squared_error', optimizer=SGD(lr=0.01))\n",
        "\n",
        "model.fit(\n",
        "    x_train,\n",
        "    y_train,\n",
        "    validation_data=(x_val, y_val), # 검증 데이터를 넣어주면 한 epoch이 끝날때마다 자동으로 검증\n",
        "    epochs=100 # epochs 복수형으로 쓰기!\n",
        ")"
      ],
      "execution_count": 11,
      "outputs": [
        {
          "output_type": "stream",
          "name": "stderr",
          "text": [
            "/usr/local/lib/python3.7/dist-packages/keras/optimizer_v2/optimizer_v2.py:356: UserWarning: The `lr` argument is deprecated, use `learning_rate` instead.\n",
            "  \"The `lr` argument is deprecated, use `learning_rate` instead.\")\n"
          ]
        },
        {
          "output_type": "stream",
          "name": "stdout",
          "text": [
            "Epoch 1/100\n",
            "1/1 [==============================] - 0s 359ms/step - loss: 8665593856.0000 - val_loss: 144185744.0000\n",
            "Epoch 2/100\n",
            "1/1 [==============================] - 0s 20ms/step - loss: 520543744.0000 - val_loss: 311871392.0000\n",
            "Epoch 3/100\n",
            "1/1 [==============================] - 0s 18ms/step - loss: 218535504.0000 - val_loss: 245431376.0000\n",
            "Epoch 4/100\n",
            "1/1 [==============================] - 0s 23ms/step - loss: 205775952.0000 - val_loss: 254776272.0000\n",
            "Epoch 5/100\n",
            "1/1 [==============================] - 0s 18ms/step - loss: 203698512.0000 - val_loss: 250787728.0000\n",
            "Epoch 6/100\n",
            "1/1 [==============================] - 0s 17ms/step - loss: 202030160.0000 - val_loss: 249412144.0000\n",
            "Epoch 7/100\n",
            "1/1 [==============================] - 0s 35ms/step - loss: 200391904.0000 - val_loss: 247558544.0000\n",
            "Epoch 8/100\n",
            "1/1 [==============================] - 0s 15ms/step - loss: 198769648.0000 - val_loss: 245816320.0000\n",
            "Epoch 9/100\n",
            "1/1 [==============================] - 0s 15ms/step - loss: 197162672.0000 - val_loss: 244072704.0000\n",
            "Epoch 10/100\n",
            "1/1 [==============================] - 0s 18ms/step - loss: 195570896.0000 - val_loss: 242348816.0000\n",
            "Epoch 11/100\n",
            "1/1 [==============================] - 0s 22ms/step - loss: 193994144.0000 - val_loss: 240640736.0000\n",
            "Epoch 12/100\n",
            "1/1 [==============================] - 0s 22ms/step - loss: 192432240.0000 - val_loss: 238948704.0000\n",
            "Epoch 13/100\n",
            "1/1 [==============================] - 0s 16ms/step - loss: 190885120.0000 - val_loss: 237272752.0000\n",
            "Epoch 14/100\n",
            "1/1 [==============================] - 0s 18ms/step - loss: 189352560.0000 - val_loss: 235612640.0000\n",
            "Epoch 15/100\n",
            "1/1 [==============================] - 0s 18ms/step - loss: 187834464.0000 - val_loss: 233968304.0000\n",
            "Epoch 16/100\n",
            "1/1 [==============================] - 0s 16ms/step - loss: 186330736.0000 - val_loss: 232339248.0000\n",
            "Epoch 17/100\n",
            "1/1 [==============================] - 0s 15ms/step - loss: 184841072.0000 - val_loss: 230725664.0000\n",
            "Epoch 18/100\n",
            "1/1 [==============================] - 0s 16ms/step - loss: 183365632.0000 - val_loss: 229127504.0000\n",
            "Epoch 19/100\n",
            "1/1 [==============================] - 0s 16ms/step - loss: 181903984.0000 - val_loss: 227544096.0000\n",
            "Epoch 20/100\n",
            "1/1 [==============================] - 0s 19ms/step - loss: 180456112.0000 - val_loss: 225975936.0000\n",
            "Epoch 21/100\n",
            "1/1 [==============================] - 0s 18ms/step - loss: 179021984.0000 - val_loss: 224422448.0000\n",
            "Epoch 22/100\n",
            "1/1 [==============================] - 0s 22ms/step - loss: 177601376.0000 - val_loss: 222883744.0000\n",
            "Epoch 23/100\n",
            "1/1 [==============================] - 0s 17ms/step - loss: 176194144.0000 - val_loss: 221359344.0000\n",
            "Epoch 24/100\n",
            "1/1 [==============================] - 0s 16ms/step - loss: 174800256.0000 - val_loss: 219849600.0000\n",
            "Epoch 25/100\n",
            "1/1 [==============================] - 0s 17ms/step - loss: 173419392.0000 - val_loss: 218353904.0000\n",
            "Epoch 26/100\n",
            "1/1 [==============================] - 0s 20ms/step - loss: 172051680.0000 - val_loss: 216872448.0000\n",
            "Epoch 27/100\n",
            "1/1 [==============================] - 0s 20ms/step - loss: 170696816.0000 - val_loss: 215404976.0000\n",
            "Epoch 28/100\n",
            "1/1 [==============================] - 0s 19ms/step - loss: 169354736.0000 - val_loss: 213951312.0000\n",
            "Epoch 29/100\n",
            "1/1 [==============================] - 0s 18ms/step - loss: 168025264.0000 - val_loss: 212511344.0000\n",
            "Epoch 30/100\n",
            "1/1 [==============================] - 0s 23ms/step - loss: 166708448.0000 - val_loss: 211085072.0000\n",
            "Epoch 31/100\n",
            "1/1 [==============================] - 0s 18ms/step - loss: 165404016.0000 - val_loss: 209672272.0000\n",
            "Epoch 32/100\n",
            "1/1 [==============================] - 0s 18ms/step - loss: 164111904.0000 - val_loss: 208272736.0000\n",
            "Epoch 33/100\n",
            "1/1 [==============================] - 0s 30ms/step - loss: 162831920.0000 - val_loss: 206886416.0000\n",
            "Epoch 34/100\n",
            "1/1 [==============================] - 0s 19ms/step - loss: 161564048.0000 - val_loss: 205513312.0000\n",
            "Epoch 35/100\n",
            "1/1 [==============================] - 0s 17ms/step - loss: 160308112.0000 - val_loss: 204153040.0000\n",
            "Epoch 36/100\n",
            "1/1 [==============================] - 0s 19ms/step - loss: 159064096.0000 - val_loss: 202805584.0000\n",
            "Epoch 37/100\n",
            "1/1 [==============================] - 0s 20ms/step - loss: 157831728.0000 - val_loss: 201471008.0000\n",
            "Epoch 38/100\n",
            "1/1 [==============================] - 0s 40ms/step - loss: 156611072.0000 - val_loss: 200148912.0000\n",
            "Epoch 39/100\n",
            "1/1 [==============================] - 0s 21ms/step - loss: 155401872.0000 - val_loss: 198839328.0000\n",
            "Epoch 40/100\n",
            "1/1 [==============================] - 0s 19ms/step - loss: 154204144.0000 - val_loss: 197542160.0000\n",
            "Epoch 41/100\n",
            "1/1 [==============================] - 0s 19ms/step - loss: 153017632.0000 - val_loss: 196257280.0000\n",
            "Epoch 42/100\n",
            "1/1 [==============================] - 0s 20ms/step - loss: 151842400.0000 - val_loss: 194984400.0000\n",
            "Epoch 43/100\n",
            "1/1 [==============================] - 0s 17ms/step - loss: 150678192.0000 - val_loss: 193723552.0000\n",
            "Epoch 44/100\n",
            "1/1 [==============================] - 0s 20ms/step - loss: 149524976.0000 - val_loss: 192474736.0000\n",
            "Epoch 45/100\n",
            "1/1 [==============================] - 0s 25ms/step - loss: 148382624.0000 - val_loss: 191237632.0000\n",
            "Epoch 46/100\n",
            "1/1 [==============================] - 0s 16ms/step - loss: 147251104.0000 - val_loss: 190012160.0000\n",
            "Epoch 47/100\n",
            "1/1 [==============================] - 0s 16ms/step - loss: 146130208.0000 - val_loss: 188798320.0000\n",
            "Epoch 48/100\n",
            "1/1 [==============================] - 0s 20ms/step - loss: 145019888.0000 - val_loss: 187595904.0000\n",
            "Epoch 49/100\n",
            "1/1 [==============================] - 0s 16ms/step - loss: 143920128.0000 - val_loss: 186404992.0000\n",
            "Epoch 50/100\n",
            "1/1 [==============================] - 0s 17ms/step - loss: 142830720.0000 - val_loss: 185225120.0000\n",
            "Epoch 51/100\n",
            "1/1 [==============================] - 0s 16ms/step - loss: 141751520.0000 - val_loss: 184056432.0000\n",
            "Epoch 52/100\n",
            "1/1 [==============================] - 0s 24ms/step - loss: 140682528.0000 - val_loss: 182898928.0000\n",
            "Epoch 53/100\n",
            "1/1 [==============================] - 0s 15ms/step - loss: 139623632.0000 - val_loss: 181752240.0000\n",
            "Epoch 54/100\n",
            "1/1 [==============================] - 0s 19ms/step - loss: 138574688.0000 - val_loss: 180616464.0000\n",
            "Epoch 55/100\n",
            "1/1 [==============================] - 0s 17ms/step - loss: 137535760.0000 - val_loss: 179491296.0000\n",
            "Epoch 56/100\n",
            "1/1 [==============================] - 0s 17ms/step - loss: 136506528.0000 - val_loss: 178376864.0000\n",
            "Epoch 57/100\n",
            "1/1 [==============================] - 0s 17ms/step - loss: 135487008.0000 - val_loss: 177272944.0000\n",
            "Epoch 58/100\n",
            "1/1 [==============================] - 0s 18ms/step - loss: 134477168.0000 - val_loss: 176179344.0000\n",
            "Epoch 59/100\n",
            "1/1 [==============================] - 0s 21ms/step - loss: 133476808.0000 - val_loss: 175096144.0000\n",
            "Epoch 60/100\n",
            "1/1 [==============================] - 0s 22ms/step - loss: 132485872.0000 - val_loss: 174023136.0000\n",
            "Epoch 61/100\n",
            "1/1 [==============================] - 0s 18ms/step - loss: 131504376.0000 - val_loss: 172960400.0000\n",
            "Epoch 62/100\n",
            "1/1 [==============================] - 0s 18ms/step - loss: 130532032.0000 - val_loss: 171907536.0000\n",
            "Epoch 63/100\n",
            "1/1 [==============================] - 0s 36ms/step - loss: 129568904.0000 - val_loss: 170864688.0000\n",
            "Epoch 64/100\n",
            "1/1 [==============================] - 0s 16ms/step - loss: 128614864.0000 - val_loss: 169831648.0000\n",
            "Epoch 65/100\n",
            "1/1 [==============================] - 0s 21ms/step - loss: 127669816.0000 - val_loss: 168808448.0000\n",
            "Epoch 66/100\n",
            "1/1 [==============================] - 0s 24ms/step - loss: 126733672.0000 - val_loss: 167794816.0000\n",
            "Epoch 67/100\n",
            "1/1 [==============================] - 0s 17ms/step - loss: 125806416.0000 - val_loss: 166790832.0000\n",
            "Epoch 68/100\n",
            "1/1 [==============================] - 0s 18ms/step - loss: 124887832.0000 - val_loss: 165796240.0000\n",
            "Epoch 69/100\n",
            "1/1 [==============================] - 0s 17ms/step - loss: 123977976.0000 - val_loss: 164811168.0000\n",
            "Epoch 70/100\n",
            "1/1 [==============================] - 0s 17ms/step - loss: 123076728.0000 - val_loss: 163835296.0000\n",
            "Epoch 71/100\n",
            "1/1 [==============================] - 0s 22ms/step - loss: 122183896.0000 - val_loss: 162868656.0000\n",
            "Epoch 72/100\n",
            "1/1 [==============================] - 0s 18ms/step - loss: 121299536.0000 - val_loss: 161911200.0000\n",
            "Epoch 73/100\n",
            "1/1 [==============================] - 0s 22ms/step - loss: 120423504.0000 - val_loss: 160962736.0000\n",
            "Epoch 74/100\n",
            "1/1 [==============================] - 0s 21ms/step - loss: 119555776.0000 - val_loss: 160023296.0000\n",
            "Epoch 75/100\n",
            "1/1 [==============================] - 0s 20ms/step - loss: 118696200.0000 - val_loss: 159092576.0000\n",
            "Epoch 76/100\n",
            "1/1 [==============================] - 0s 21ms/step - loss: 117844760.0000 - val_loss: 158170848.0000\n",
            "Epoch 77/100\n",
            "1/1 [==============================] - 0s 19ms/step - loss: 117001320.0000 - val_loss: 157257712.0000\n",
            "Epoch 78/100\n",
            "1/1 [==============================] - 0s 21ms/step - loss: 116165816.0000 - val_loss: 156353136.0000\n",
            "Epoch 79/100\n",
            "1/1 [==============================] - 0s 18ms/step - loss: 115338240.0000 - val_loss: 155457264.0000\n",
            "Epoch 80/100\n",
            "1/1 [==============================] - 0s 18ms/step - loss: 114518480.0000 - val_loss: 154569824.0000\n",
            "Epoch 81/100\n",
            "1/1 [==============================] - 0s 19ms/step - loss: 113706456.0000 - val_loss: 153690608.0000\n",
            "Epoch 82/100\n",
            "1/1 [==============================] - 0s 23ms/step - loss: 112902016.0000 - val_loss: 152819872.0000\n",
            "Epoch 83/100\n",
            "1/1 [==============================] - 0s 24ms/step - loss: 112105272.0000 - val_loss: 151957296.0000\n",
            "Epoch 84/100\n",
            "1/1 [==============================] - 0s 16ms/step - loss: 111315984.0000 - val_loss: 151102928.0000\n",
            "Epoch 85/100\n",
            "1/1 [==============================] - 0s 18ms/step - loss: 110534200.0000 - val_loss: 150256528.0000\n",
            "Epoch 86/100\n",
            "1/1 [==============================] - 0s 21ms/step - loss: 109759696.0000 - val_loss: 149418096.0000\n",
            "Epoch 87/100\n",
            "1/1 [==============================] - 0s 18ms/step - loss: 108992568.0000 - val_loss: 148587728.0000\n",
            "Epoch 88/100\n",
            "1/1 [==============================] - 0s 20ms/step - loss: 108232688.0000 - val_loss: 147765104.0000\n",
            "Epoch 89/100\n",
            "1/1 [==============================] - 0s 23ms/step - loss: 107479912.0000 - val_loss: 146950304.0000\n",
            "Epoch 90/100\n",
            "1/1 [==============================] - 0s 17ms/step - loss: 106734320.0000 - val_loss: 146143200.0000\n",
            "Epoch 91/100\n",
            "1/1 [==============================] - 0s 18ms/step - loss: 105995704.0000 - val_loss: 145343648.0000\n",
            "Epoch 92/100\n",
            "1/1 [==============================] - 0s 22ms/step - loss: 105264064.0000 - val_loss: 144551664.0000\n",
            "Epoch 93/100\n",
            "1/1 [==============================] - 0s 16ms/step - loss: 104539368.0000 - val_loss: 143767280.0000\n",
            "Epoch 94/100\n",
            "1/1 [==============================] - 0s 20ms/step - loss: 103821456.0000 - val_loss: 142990160.0000\n",
            "Epoch 95/100\n",
            "1/1 [==============================] - 0s 16ms/step - loss: 103110312.0000 - val_loss: 142220432.0000\n",
            "Epoch 96/100\n",
            "1/1 [==============================] - 0s 21ms/step - loss: 102405960.0000 - val_loss: 141458032.0000\n",
            "Epoch 97/100\n",
            "1/1 [==============================] - 0s 21ms/step - loss: 101708152.0000 - val_loss: 140702752.0000\n",
            "Epoch 98/100\n",
            "1/1 [==============================] - 0s 22ms/step - loss: 101016984.0000 - val_loss: 139954576.0000\n",
            "Epoch 99/100\n",
            "1/1 [==============================] - 0s 16ms/step - loss: 100332344.0000 - val_loss: 139213616.0000\n",
            "Epoch 100/100\n",
            "1/1 [==============================] - 0s 32ms/step - loss: 99654152.0000 - val_loss: 138479520.0000\n"
          ]
        },
        {
          "output_type": "execute_result",
          "data": {
            "text/plain": [
              "<keras.callbacks.History at 0x7fa795286a50>"
            ]
          },
          "metadata": {},
          "execution_count": 11
        }
      ]
    },
    {
      "cell_type": "markdown",
      "metadata": {
        "id": "j2rQ0f-SHSi-"
      },
      "source": [
        "검증 데이터로 예측하기"
      ]
    },
    {
      "cell_type": "code",
      "metadata": {
        "colab": {
          "base_uri": "https://localhost:8080/",
          "height": 266
        },
        "id": "kB4SwjAkHUVL",
        "outputId": "048d4c78-688e-4667-8473-ac83d05777f0"
      },
      "source": [
        "y_pred = model.predict(x_val)\n",
        "\n",
        "plt.scatter(x_val, y_val)\n",
        "plt.scatter(x_val, y_pred, color='r')\n",
        "plt.show()"
      ],
      "execution_count": 12,
      "outputs": [
        {
          "output_type": "display_data",
          "data": {
            "image/png": "[encoded data removed]",
            "text/plain": [
              "<Figure size 432x288 with 1 Axes>"
            ]
          },
          "metadata": {
            "needs_background": "light"
          }
        }
      ]
    },
    {
      "cell_type": "code",
      "metadata": {
        "id": "Tt2sapTkJ-Ip"
      },
      "source": [
        ""
      ],
      "execution_count": null,
      "outputs": []
    }
  ]
}