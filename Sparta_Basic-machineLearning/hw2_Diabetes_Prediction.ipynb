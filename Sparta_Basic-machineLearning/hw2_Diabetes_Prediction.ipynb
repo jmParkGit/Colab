{
  "nbformat": 4,
  "nbformat_minor": 0,
  "metadata": {
    "colab": {
      "name": "hw2_Diabetes Prediction.ipynb",
      "provenance": [],
      "collapsed_sections": [],
      "authorship_tag": "ABX9TyOXRBYUPk8VnsU5xXc6OFKc",
      "include_colab_link": true
    },
    "kernelspec": {
      "name": "python3",
      "display_name": "Python 3"
    },
    "language_info": {
      "name": "python"
    }
  },
  "cells": [
    {
      "cell_type": "markdown",
      "metadata": {
        "id": "view-in-github",
        "colab_type": "text"
      },
      "source": [
        "<a href=\"https://colab.research.google.com/github/jmParkGit/Colab/blob/main/Sparta_Basic-machineLearning/hw2_Diabetes_Prediction.ipynb\" target=\"_parent\"><img src=\"https://colab.research.google.com/assets/colab-badge.svg\" alt=\"Open In Colab\"/></a>"
      ]
    },
    {
      "cell_type": "markdown",
      "metadata": {
        "id": "puSoMinv6bDg"
      },
      "source": [
        "# Diabetes Predictoin (Logistic regression)"
      ]
    },
    {
      "cell_type": "markdown",
      "metadata": {
        "id": "peTQx8ec6v_j"
      },
      "source": [
        "## 데이터셋 다운로드\n",
        "당뇨병 dataset: https://www.kaggle.com/kandij/diabetes-dataset"
      ]
    },
    {
      "cell_type": "code",
      "metadata": {
        "id": "weIbzlkX6skx"
      },
      "source": [
        "import os\n",
        "os.environ['KAGGLE_USERNAME'] = 'USER' # username\n",
        "os.environ['KAGGLE_KEY'] = 'KEY' # key"
      ],
      "execution_count": 1,
      "outputs": []
    },
    {
      "cell_type": "code",
      "metadata": {
        "colab": {
          "base_uri": "https://localhost:8080/"
        },
        "id": "YAr3Y1hh7C2Q",
        "outputId": "f2256d93-6c5d-4b96-d24d-271a66db3c0c"
      },
      "source": [
        "!kaggle datasets download -d kandij/diabetes-dataset"
      ],
      "execution_count": 2,
      "outputs": [
        {
          "output_type": "stream",
          "name": "stdout",
          "text": [
            "diabetes-dataset.zip: Skipping, found more recently modified local copy (use --force to force download)\n"
          ]
        }
      ]
    },
    {
      "cell_type": "code",
      "metadata": {
        "colab": {
          "base_uri": "https://localhost:8080/"
        },
        "id": "Q80ZULwj7fW8",
        "outputId": "f6796356-3a31-437e-9662-a057a387c2f9"
      },
      "source": [
        "!unzip diabetes-dataset.zip"
      ],
      "execution_count": 3,
      "outputs": [
        {
          "output_type": "stream",
          "name": "stdout",
          "text": [
            "Archive:  diabetes-dataset.zip\n",
            "replace diabetes2.csv? [y]es, [n]o, [A]ll, [N]one, [r]ename: y\n",
            "  inflating: diabetes2.csv           \n"
          ]
        }
      ]
    },
    {
      "cell_type": "code",
      "metadata": {
        "id": "GREZ5MnQ7wTO"
      },
      "source": [
        "from tensorflow.keras.models import Sequential\n",
        "from tensorflow.keras.layers import Dense\n",
        "from tensorflow.keras.optimizers import Adam, SGD\n",
        "import numpy as np\n",
        "import pandas as pd\n",
        "import matplotlib.pyplot as plt \n",
        "import seaborn as sns\n",
        "from sklearn.model_selection import train_test_split\n",
        "from sklearn.preprocessing import StandardScaler"
      ],
      "execution_count": 4,
      "outputs": []
    },
    {
      "cell_type": "markdown",
      "metadata": {
        "id": "aoo52o5x7yPw"
      },
      "source": [
        "## 데이터셋 로드"
      ]
    },
    {
      "cell_type": "code",
      "metadata": {
        "colab": {
          "base_uri": "https://localhost:8080/",
          "height": 204
        },
        "id": "WpJgeKP58B17",
        "outputId": "140d4934-e9a2-4603-842d-5537f732626b"
      },
      "source": [
        "df = pd.read_csv('diabetes2.csv')\n",
        "df.head(5)"
      ],
      "execution_count": 5,
      "outputs": [
        {
          "output_type": "execute_result",
          "data": {
            "text/html": [
              "<div>\n",
              "<style scoped>\n",
              "    .dataframe tbody tr th:only-of-type {\n",
              "        vertical-align: middle;\n",
              "    }\n",
              "\n",
              "    .dataframe tbody tr th {\n",
              "        vertical-align: top;\n",
              "    }\n",
              "\n",
              "    .dataframe thead th {\n",
              "        text-align: right;\n",
              "    }\n",
              "</style>\n",
              "<table border=\"1\" class=\"dataframe\">\n",
              "  <thead>\n",
              "    <tr style=\"text-align: right;\">\n",
              "      <th></th>\n",
              "      <th>Pregnancies</th>\n",
              "      <th>Glucose</th>\n",
              "      <th>BloodPressure</th>\n",
              "      <th>SkinThickness</th>\n",
              "      <th>Insulin</th>\n",
              "      <th>BMI</th>\n",
              "      <th>DiabetesPedigreeFunction</th>\n",
              "      <th>Age</th>\n",
              "      <th>Outcome</th>\n",
              "    </tr>\n",
              "  </thead>\n",
              "  <tbody>\n",
              "    <tr>\n",
              "      <th>0</th>\n",
              "      <td>6</td>\n",
              "      <td>148</td>\n",
              "      <td>72</td>\n",
              "      <td>35</td>\n",
              "      <td>0</td>\n",
              "      <td>33.6</td>\n",
              "      <td>0.627</td>\n",
              "      <td>50</td>\n",
              "      <td>1</td>\n",
              "    </tr>\n",
              "    <tr>\n",
              "      <th>1</th>\n",
              "      <td>1</td>\n",
              "      <td>85</td>\n",
              "      <td>66</td>\n",
              "      <td>29</td>\n",
              "      <td>0</td>\n",
              "      <td>26.6</td>\n",
              "      <td>0.351</td>\n",
              "      <td>31</td>\n",
              "      <td>0</td>\n",
              "    </tr>\n",
              "    <tr>\n",
              "      <th>2</th>\n",
              "      <td>8</td>\n",
              "      <td>183</td>\n",
              "      <td>64</td>\n",
              "      <td>0</td>\n",
              "      <td>0</td>\n",
              "      <td>23.3</td>\n",
              "      <td>0.672</td>\n",
              "      <td>32</td>\n",
              "      <td>1</td>\n",
              "    </tr>\n",
              "    <tr>\n",
              "      <th>3</th>\n",
              "      <td>1</td>\n",
              "      <td>89</td>\n",
              "      <td>66</td>\n",
              "      <td>23</td>\n",
              "      <td>94</td>\n",
              "      <td>28.1</td>\n",
              "      <td>0.167</td>\n",
              "      <td>21</td>\n",
              "      <td>0</td>\n",
              "    </tr>\n",
              "    <tr>\n",
              "      <th>4</th>\n",
              "      <td>0</td>\n",
              "      <td>137</td>\n",
              "      <td>40</td>\n",
              "      <td>35</td>\n",
              "      <td>168</td>\n",
              "      <td>43.1</td>\n",
              "      <td>2.288</td>\n",
              "      <td>33</td>\n",
              "      <td>1</td>\n",
              "    </tr>\n",
              "  </tbody>\n",
              "</table>\n",
              "</div>"
            ],
            "text/plain": [
              "   Pregnancies  Glucose  BloodPressure  ...  DiabetesPedigreeFunction  Age  Outcome\n",
              "0            6      148             72  ...                     0.627   50        1\n",
              "1            1       85             66  ...                     0.351   31        0\n",
              "2            8      183             64  ...                     0.672   32        1\n",
              "3            1       89             66  ...                     0.167   21        0\n",
              "4            0      137             40  ...                     2.288   33        1\n",
              "\n",
              "[5 rows x 9 columns]"
            ]
          },
          "metadata": {},
          "execution_count": 5
        }
      ]
    },
    {
      "cell_type": "markdown",
      "metadata": {
        "id": "d0WtHiHb8YEI"
      },
      "source": [
        "## 데이터셋 미리보기\n",
        "### 당뇨병 클래스의 개수 확인\n",
        "(0:정상, 1:당뇨병)"
      ]
    },
    {
      "cell_type": "code",
      "metadata": {
        "colab": {
          "base_uri": "https://localhost:8080/",
          "height": 296
        },
        "id": "RUJg22Rw97ti",
        "outputId": "8743ce65-2690-4bcc-8c6f-0285f03e1af3"
      },
      "source": [
        "sns.countplot(x=df['Outcome'])"
      ],
      "execution_count": 6,
      "outputs": [
        {
          "output_type": "execute_result",
          "data": {
            "text/plain": [
              "<matplotlib.axes._subplots.AxesSubplot at 0x7f2c55aeed50>"
            ]
          },
          "metadata": {},
          "execution_count": 6
        },
        {
          "output_type": "display_data",
          "data": {
            "image/png": "[encoded data removed]",
            "text/plain": [
              "<Figure size 432x288 with 1 Axes>"
            ]
          },
          "metadata": {
            "needs_background": "light"
          }
        }
      ]
    },
    {
      "cell_type": "markdown",
      "metadata": {
        "id": "N3tXAbrE-TRb"
      },
      "source": [
        "## 전처리(Preprocessing)\n",
        "### 비어있는 행 확인\n",
        "1. 비어있는값(null 또는 na)이 있는지 확인하고,\n",
        "2. 비어있는 값을 포함한 행을 제거한다."
      ]
    },
    {
      "cell_type": "code",
      "metadata": {
        "colab": {
          "base_uri": "https://localhost:8080/"
        },
        "id": "X0mkNbk6-WeW",
        "outputId": "74c4804f-ca03-4ce7-a4b4-bf9c170bce55"
      },
      "source": [
        "print(df.isnull().sum())"
      ],
      "execution_count": 7,
      "outputs": [
        {
          "output_type": "stream",
          "name": "stdout",
          "text": [
            "Pregnancies                 0\n",
            "Glucose                     0\n",
            "BloodPressure               0\n",
            "SkinThickness               0\n",
            "Insulin                     0\n",
            "BMI                         0\n",
            "DiabetesPedigreeFunction    0\n",
            "Age                         0\n",
            "Outcome                     0\n",
            "dtype: int64\n"
          ]
        }
      ]
    },
    {
      "cell_type": "code",
      "metadata": {
        "colab": {
          "base_uri": "https://localhost:8080/"
        },
        "id": "jGm_EImg-lA0",
        "outputId": "5dacb9b1-1ece-4ff4-f10d-7ebf67bf96bf"
      },
      "source": [
        "print(len(df))\n",
        "df = df.dropna() #현재 dataset에는 필요없으나, 나중을 위해서 써둠\n",
        "print(len(df))"
      ],
      "execution_count": 8,
      "outputs": [
        {
          "output_type": "stream",
          "name": "stdout",
          "text": [
            "768\n",
            "768\n"
          ]
        }
      ]
    },
    {
      "cell_type": "markdown",
      "metadata": {
        "id": "FTY4sUlT-5II"
      },
      "source": [
        "## X,Y 데이터 분활"
      ]
    },
    {
      "cell_type": "code",
      "metadata": {
        "colab": {
          "base_uri": "https://localhost:8080/",
          "height": 204
        },
        "id": "Ao2PBXWK-8IQ",
        "outputId": "8f94db2f-4cbe-4c82-a304-94025ca2476c"
      },
      "source": [
        "x_data = df.drop(columns=['Outcome'],axis=1)\n",
        "x_data=x_data.astype(np.float32)\n",
        "\n",
        "x_data.head(5)"
      ],
      "execution_count": 9,
      "outputs": [
        {
          "output_type": "execute_result",
          "data": {
            "text/html": [
              "<div>\n",
              "<style scoped>\n",
              "    .dataframe tbody tr th:only-of-type {\n",
              "        vertical-align: middle;\n",
              "    }\n",
              "\n",
              "    .dataframe tbody tr th {\n",
              "        vertical-align: top;\n",
              "    }\n",
              "\n",
              "    .dataframe thead th {\n",
              "        text-align: right;\n",
              "    }\n",
              "</style>\n",
              "<table border=\"1\" class=\"dataframe\">\n",
              "  <thead>\n",
              "    <tr style=\"text-align: right;\">\n",
              "      <th></th>\n",
              "      <th>Pregnancies</th>\n",
              "      <th>Glucose</th>\n",
              "      <th>BloodPressure</th>\n",
              "      <th>SkinThickness</th>\n",
              "      <th>Insulin</th>\n",
              "      <th>BMI</th>\n",
              "      <th>DiabetesPedigreeFunction</th>\n",
              "      <th>Age</th>\n",
              "    </tr>\n",
              "  </thead>\n",
              "  <tbody>\n",
              "    <tr>\n",
              "      <th>0</th>\n",
              "      <td>6.0</td>\n",
              "      <td>148.0</td>\n",
              "      <td>72.0</td>\n",
              "      <td>35.0</td>\n",
              "      <td>0.0</td>\n",
              "      <td>33.599998</td>\n",
              "      <td>0.627</td>\n",
              "      <td>50.0</td>\n",
              "    </tr>\n",
              "    <tr>\n",
              "      <th>1</th>\n",
              "      <td>1.0</td>\n",
              "      <td>85.0</td>\n",
              "      <td>66.0</td>\n",
              "      <td>29.0</td>\n",
              "      <td>0.0</td>\n",
              "      <td>26.600000</td>\n",
              "      <td>0.351</td>\n",
              "      <td>31.0</td>\n",
              "    </tr>\n",
              "    <tr>\n",
              "      <th>2</th>\n",
              "      <td>8.0</td>\n",
              "      <td>183.0</td>\n",
              "      <td>64.0</td>\n",
              "      <td>0.0</td>\n",
              "      <td>0.0</td>\n",
              "      <td>23.299999</td>\n",
              "      <td>0.672</td>\n",
              "      <td>32.0</td>\n",
              "    </tr>\n",
              "    <tr>\n",
              "      <th>3</th>\n",
              "      <td>1.0</td>\n",
              "      <td>89.0</td>\n",
              "      <td>66.0</td>\n",
              "      <td>23.0</td>\n",
              "      <td>94.0</td>\n",
              "      <td>28.100000</td>\n",
              "      <td>0.167</td>\n",
              "      <td>21.0</td>\n",
              "    </tr>\n",
              "    <tr>\n",
              "      <th>4</th>\n",
              "      <td>0.0</td>\n",
              "      <td>137.0</td>\n",
              "      <td>40.0</td>\n",
              "      <td>35.0</td>\n",
              "      <td>168.0</td>\n",
              "      <td>43.099998</td>\n",
              "      <td>2.288</td>\n",
              "      <td>33.0</td>\n",
              "    </tr>\n",
              "  </tbody>\n",
              "</table>\n",
              "</div>"
            ],
            "text/plain": [
              "   Pregnancies  Glucose  ...  DiabetesPedigreeFunction   Age\n",
              "0          6.0    148.0  ...                     0.627  50.0\n",
              "1          1.0     85.0  ...                     0.351  31.0\n",
              "2          8.0    183.0  ...                     0.672  32.0\n",
              "3          1.0     89.0  ...                     0.167  21.0\n",
              "4          0.0    137.0  ...                     2.288  33.0\n",
              "\n",
              "[5 rows x 8 columns]"
            ]
          },
          "metadata": {},
          "execution_count": 9
        }
      ]
    },
    {
      "cell_type": "code",
      "metadata": {
        "colab": {
          "base_uri": "https://localhost:8080/",
          "height": 204
        },
        "id": "hsI9fnNY_J9m",
        "outputId": "8c37e547-7eaf-45df-c673-4ced5658dc5d"
      },
      "source": [
        "y_data=df[['Outcome']]\n",
        "y_data=y_data.astype(np.float32)\n",
        "y_data.head(5)"
      ],
      "execution_count": 10,
      "outputs": [
        {
          "output_type": "execute_result",
          "data": {
            "text/html": [
              "<div>\n",
              "<style scoped>\n",
              "    .dataframe tbody tr th:only-of-type {\n",
              "        vertical-align: middle;\n",
              "    }\n",
              "\n",
              "    .dataframe tbody tr th {\n",
              "        vertical-align: top;\n",
              "    }\n",
              "\n",
              "    .dataframe thead th {\n",
              "        text-align: right;\n",
              "    }\n",
              "</style>\n",
              "<table border=\"1\" class=\"dataframe\">\n",
              "  <thead>\n",
              "    <tr style=\"text-align: right;\">\n",
              "      <th></th>\n",
              "      <th>Outcome</th>\n",
              "    </tr>\n",
              "  </thead>\n",
              "  <tbody>\n",
              "    <tr>\n",
              "      <th>0</th>\n",
              "      <td>1.0</td>\n",
              "    </tr>\n",
              "    <tr>\n",
              "      <th>1</th>\n",
              "      <td>0.0</td>\n",
              "    </tr>\n",
              "    <tr>\n",
              "      <th>2</th>\n",
              "      <td>1.0</td>\n",
              "    </tr>\n",
              "    <tr>\n",
              "      <th>3</th>\n",
              "      <td>0.0</td>\n",
              "    </tr>\n",
              "    <tr>\n",
              "      <th>4</th>\n",
              "      <td>1.0</td>\n",
              "    </tr>\n",
              "  </tbody>\n",
              "</table>\n",
              "</div>"
            ],
            "text/plain": [
              "   Outcome\n",
              "0      1.0\n",
              "1      0.0\n",
              "2      1.0\n",
              "3      0.0\n",
              "4      1.0"
            ]
          },
          "metadata": {},
          "execution_count": 10
        }
      ]
    },
    {
      "cell_type": "markdown",
      "metadata": {
        "id": "LbVaUgF3_drX"
      },
      "source": [
        "## 표준화(Standardization)\n",
        "[StandardScaler](https://scikit-learn.org/stable/modules/generated/sklearn.preprocessing.StandardScaler.html)\n",
        "z=(x-u)/s\n",
        "z=(x-평균)/표준편차\n"
      ]
    },
    {
      "cell_type": "code",
      "metadata": {
        "colab": {
          "base_uri": "https://localhost:8080/"
        },
        "id": "L5SkcfWy_tBc",
        "outputId": "53608ae4-9fbe-4791-fe8e-0fa93a78b73d"
      },
      "source": [
        "scaler=StandardScaler()\n",
        "x_data_scaled=scaler.fit_transform(x_data)\n",
        "\n",
        "print(x_data.values[0])\n",
        "print(x_data_scaled[0])"
      ],
      "execution_count": 11,
      "outputs": [
        {
          "output_type": "stream",
          "name": "stdout",
          "text": [
            "[  6.    148.     72.     35.      0.     33.6     0.627  50.   ]\n",
            "[ 0.6399473   0.8483238   0.14964075  0.90726995 -0.6928905   0.20401257\n",
            "  0.46849188  1.4259955 ]\n"
          ]
        }
      ]
    },
    {
      "cell_type": "markdown",
      "metadata": {
        "id": "heAz4JNXAJnP"
      },
      "source": [
        "학습/검증 데이터 분활"
      ]
    },
    {
      "cell_type": "code",
      "metadata": {
        "colab": {
          "base_uri": "https://localhost:8080/"
        },
        "id": "FQQfUvIFAUsX",
        "outputId": "1084ecae-8bc0-40af-cb9f-d00c4e846dfc"
      },
      "source": [
        "x_train, x_val, y_train, y_val = train_test_split(x_data_scaled,y_data,test_size=0.2, random_state=2021)\n",
        "\n",
        "print(x_train.shape, x_val.shape)\n",
        "print(y_train.shape, y_val.shape)"
      ],
      "execution_count": 12,
      "outputs": [
        {
          "output_type": "stream",
          "name": "stdout",
          "text": [
            "(614, 8) (154, 8)\n",
            "(614, 1) (154, 1)\n"
          ]
        }
      ]
    },
    {
      "cell_type": "markdown",
      "metadata": {
        "id": "U2Hbr2eyA-tx"
      },
      "source": [
        "## 모델 학습"
      ]
    },
    {
      "cell_type": "code",
      "metadata": {
        "colab": {
          "base_uri": "https://localhost:8080/"
        },
        "id": "XGC0-FreBCr2",
        "outputId": "01fa9b93-c3fe-4f2f-e492-e991a6e43b7c"
      },
      "source": [
        "model = Sequential([\n",
        "  Dense(1, activation='sigmoid')\n",
        "  ])\n",
        "\n",
        "model.compile(loss='binary_crossentropy', optimizer=Adam(lr=0.01), metrics=['acc'])\n",
        "\n",
        "model.fit(\n",
        "      x_train,\n",
        "      y_train,\n",
        "      validation_data=(x_val, y_val), # 검증 데이터를 넣어주면 한 epoch이 끝날때마다 자동으로 검증\n",
        "      epochs=20\n",
        "  )\n"
      ],
      "execution_count": 13,
      "outputs": [
        {
          "output_type": "stream",
          "name": "stderr",
          "text": [
            "/usr/local/lib/python3.7/dist-packages/keras/optimizer_v2/optimizer_v2.py:356: UserWarning: The `lr` argument is deprecated, use `learning_rate` instead.\n",
            "  \"The `lr` argument is deprecated, use `learning_rate` instead.\")\n"
          ]
        },
        {
          "output_type": "stream",
          "name": "stdout",
          "text": [
            "Epoch 1/20\n",
            "20/20 [==============================] - 1s 12ms/step - loss: 1.0701 - acc: 0.3599 - val_loss: 0.9114 - val_acc: 0.4416\n",
            "Epoch 2/20\n",
            "20/20 [==============================] - 0s 3ms/step - loss: 0.8069 - acc: 0.4756 - val_loss: 0.6961 - val_acc: 0.6429\n",
            "Epoch 3/20\n",
            "20/20 [==============================] - 0s 4ms/step - loss: 0.6501 - acc: 0.6482 - val_loss: 0.5883 - val_acc: 0.7403\n",
            "Epoch 4/20\n",
            "20/20 [==============================] - 0s 4ms/step - loss: 0.5756 - acc: 0.7313 - val_loss: 0.5335 - val_acc: 0.7792\n",
            "Epoch 5/20\n",
            "20/20 [==============================] - 0s 3ms/step - loss: 0.5357 - acc: 0.7443 - val_loss: 0.5054 - val_acc: 0.7727\n",
            "Epoch 6/20\n",
            "20/20 [==============================] - 0s 3ms/step - loss: 0.5135 - acc: 0.7541 - val_loss: 0.4901 - val_acc: 0.7662\n",
            "Epoch 7/20\n",
            "20/20 [==============================] - 0s 3ms/step - loss: 0.4999 - acc: 0.7557 - val_loss: 0.4817 - val_acc: 0.7727\n",
            "Epoch 8/20\n",
            "20/20 [==============================] - 0s 3ms/step - loss: 0.4923 - acc: 0.7573 - val_loss: 0.4785 - val_acc: 0.7662\n",
            "Epoch 9/20\n",
            "20/20 [==============================] - 0s 3ms/step - loss: 0.4867 - acc: 0.7687 - val_loss: 0.4762 - val_acc: 0.7662\n",
            "Epoch 10/20\n",
            "20/20 [==============================] - 0s 3ms/step - loss: 0.4835 - acc: 0.7736 - val_loss: 0.4735 - val_acc: 0.7727\n",
            "Epoch 11/20\n",
            "20/20 [==============================] - 0s 3ms/step - loss: 0.4807 - acc: 0.7687 - val_loss: 0.4722 - val_acc: 0.7662\n",
            "Epoch 12/20\n",
            "20/20 [==============================] - 0s 3ms/step - loss: 0.4788 - acc: 0.7720 - val_loss: 0.4705 - val_acc: 0.7727\n",
            "Epoch 13/20\n",
            "20/20 [==============================] - 0s 4ms/step - loss: 0.4778 - acc: 0.7752 - val_loss: 0.4704 - val_acc: 0.7597\n",
            "Epoch 14/20\n",
            "20/20 [==============================] - 0s 4ms/step - loss: 0.4763 - acc: 0.7769 - val_loss: 0.4698 - val_acc: 0.7792\n",
            "Epoch 15/20\n",
            "20/20 [==============================] - 0s 3ms/step - loss: 0.4753 - acc: 0.7801 - val_loss: 0.4692 - val_acc: 0.7792\n",
            "Epoch 16/20\n",
            "20/20 [==============================] - 0s 3ms/step - loss: 0.4751 - acc: 0.7769 - val_loss: 0.4695 - val_acc: 0.7792\n",
            "Epoch 17/20\n",
            "20/20 [==============================] - 0s 3ms/step - loss: 0.4747 - acc: 0.7801 - val_loss: 0.4711 - val_acc: 0.7792\n",
            "Epoch 18/20\n",
            "20/20 [==============================] - 0s 4ms/step - loss: 0.4746 - acc: 0.7785 - val_loss: 0.4713 - val_acc: 0.7727\n",
            "Epoch 19/20\n",
            "20/20 [==============================] - 0s 3ms/step - loss: 0.4743 - acc: 0.7818 - val_loss: 0.4688 - val_acc: 0.7922\n",
            "Epoch 20/20\n",
            "20/20 [==============================] - 0s 3ms/step - loss: 0.4737 - acc: 0.7785 - val_loss: 0.4688 - val_acc: 0.7857\n"
          ]
        },
        {
          "output_type": "execute_result",
          "data": {
            "text/plain": [
              "<keras.callbacks.History at 0x7f2c4e67cc10>"
            ]
          },
          "metadata": {},
          "execution_count": 13
        }
      ]
    },
    {
      "cell_type": "code",
      "metadata": {
        "id": "vr8R07ebBohL"
      },
      "source": [
        ""
      ],
      "execution_count": null,
      "outputs": []
    }
  ]
}